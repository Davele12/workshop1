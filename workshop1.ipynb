{
 "cells": [
  {
   "cell_type": "code",
   "execution_count": 1,
   "metadata": {},
   "outputs": [],
   "source": [
    "import psycopg2\n",
    "import pandas as pd\n",
    "import matplotlib.pyplot as plt"
   ]
  },
  {
   "cell_type": "markdown",
   "metadata": {},
   "source": [
    "Connection with DB"
   ]
  },
  {
   "cell_type": "code",
   "execution_count": 2,
   "metadata": {},
   "outputs": [],
   "source": [
    "import psycopg2\n",
    "\n",
    "connect = psycopg2.connect(\n",
    "    host = \"localhost\",\n",
    "    user = \"root\",\n",
    "    password = \"root\",\n",
    "    database = \"postgres\",\n",
    "    port = \"5432\"\n",
    "\n",
    ")\n",
    "connect.autocommit = True"
   ]
  },
  {
   "cell_type": "markdown",
   "metadata": {},
   "source": [
    "SQL query to create the table"
   ]
  },
  {
   "cell_type": "code",
   "execution_count": 3,
   "metadata": {},
   "outputs": [],
   "source": [
    "def makeQuery():\n",
    "    cursor = connect.cursor()\n",
    "\n",
    "    # SQL query to create the table\n",
    "    query = \"\"\"\n",
    "    CREATE TABLE IF NOT EXISTS applicants (\n",
    "        first_name VARCHAR(500),\n",
    "        last_name VARCHAR(500),\n",
    "        email VARCHAR(500),\n",
    "        application_date VARCHAR(500),\n",
    "        country VARCHAR(500),\n",
    "        years_of_experience VARCHAR(500),\n",
    "        seniority VARCHAR(500),\n",
    "        technology VARCHAR(500),\n",
    "        code_challenge_score VARCHAR(500),\n",
    "        technical_interview_score VARCHAR(500)\n",
    "    );\n",
    "    \"\"\"\n",
    "\n",
    "    cursor.execute(query)\n",
    "    cursor.close()\n",
    "\n",
    "makeQuery()\n",
    "\n",
    "# Insert the data from candidates.csv uploaded in the storage of Pgadmin.\n",
    "\n",
    "query = \"\"\"\n",
    "COPY applicants (first_name, last_name, email, application_date, country, years_of_experience, seniority, technology, code_challenge_score, technical_interview_score) \n",
    "FROM 'D:\\Workshop1david\\data\\pgadmin-data\\storage\\davidvelasquezlenis_gmail.com\\candidates.csv' DELIMITER ';' CSV HEADER;\n",
    "\"\"\"\n",
    "makeQuery()"
   ]
  },
  {
   "cell_type": "markdown",
   "metadata": {},
   "source": [
    "EDA"
   ]
  },
  {
   "cell_type": "markdown",
   "metadata": {},
   "source": [
    "Make the pandas Dataframe"
   ]
  },
  {
   "cell_type": "code",
   "execution_count": 4,
   "metadata": {},
   "outputs": [],
   "source": [
    "cursor = connect.cursor()\n",
    "cursor.execute(\"SELECT * FROM applicants\")\n",
    "dbtable = cursor.fetchall()\n",
    "df = pd.DataFrame(dbtable)"
   ]
  },
  {
   "cell_type": "markdown",
   "metadata": {},
   "source": [
    "#1 Data Understanding:\n",
    "Displays the first rows of data, displays information about the DataFrame, and displays statistical summary of the DataFrame"
   ]
  },
  {
   "cell_type": "code",
   "execution_count": 5,
   "metadata": {},
   "outputs": [
    {
     "name": "stdout",
     "output_type": "stream",
     "text": [
      "            0          1                         2                 3        4  \\\n",
      "0  First Name  Last Name                     Email  Application Date  Country   \n",
      "1  Bernadette  Langworth       leonard91@yahoo.com        2021-02-26   Norway   \n",
      "2      Camryn   Reynolds       zelda56@hotmail.com        2021-09-09   Panama   \n",
      "3       Larue     Spinka  okey_schultz41@gmail.com        2020-04-14  Belarus   \n",
      "4        Arch     Spinka    elvera_kulas@yahoo.com        2020-10-01  Eritrea   \n",
      "\n",
      "     5          6               7                     8  \\\n",
      "0  YOE  Seniority      Technology  Code Challenge Score   \n",
      "1    2     Intern   Data Engineer                     3   \n",
      "2   10     Intern   Data Engineer                     2   \n",
      "3    4  Mid-Level  Client Success                    10   \n",
      "4   25    Trainee       QA Manual                     7   \n",
      "\n",
      "                           9  \n",
      "0  Technical Interview Score  \n",
      "1                          3  \n",
      "2                         10  \n",
      "3                          9  \n",
      "4                          1  \n",
      "<class 'pandas.core.frame.DataFrame'>\n",
      "RangeIndex: 50001 entries, 0 to 50000\n",
      "Data columns (total 10 columns):\n",
      " #   Column  Non-Null Count  Dtype \n",
      "---  ------  --------------  ----- \n",
      " 0   0       50001 non-null  object\n",
      " 1   1       50001 non-null  object\n",
      " 2   2       50001 non-null  object\n",
      " 3   3       50001 non-null  object\n",
      " 4   4       50001 non-null  object\n",
      " 5   5       50001 non-null  object\n",
      " 6   6       50001 non-null  object\n",
      " 7   7       50001 non-null  object\n",
      " 8   8       50001 non-null  object\n",
      " 9   9       50001 non-null  object\n",
      "dtypes: object(10)\n",
      "memory usage: 3.8+ MB\n",
      "None\n",
      "            0        1                 2           3       4      5       6  \\\n",
      "count   50001    50001             50001       50001   50001  50001   50001   \n",
      "unique   3008      475             49834        1647     245     32       8   \n",
      "top     Sarai  Murazik  fern70@gmail.com  2020-07-07  Malawi     24  Intern   \n",
      "freq       33      138                 3          50     242   1720    7255   \n",
      "\n",
      "                       7      8      9  \n",
      "count              50001  50001  50001  \n",
      "unique                25     12     12  \n",
      "top     Game Development      3      9  \n",
      "freq                3818   4678   4597  \n",
      "0    object\n",
      "1    object\n",
      "2    object\n",
      "3    object\n",
      "4    object\n",
      "5    object\n",
      "6    object\n",
      "7    object\n",
      "8    object\n",
      "9    object\n",
      "dtype: object\n"
     ]
    },
    {
     "data": {
      "text/plain": [
       "0    0\n",
       "1    0\n",
       "2    0\n",
       "3    0\n",
       "4    0\n",
       "5    0\n",
       "6    0\n",
       "7    0\n",
       "8    0\n",
       "9    0\n",
       "dtype: int64"
      ]
     },
     "execution_count": 5,
     "metadata": {},
     "output_type": "execute_result"
    }
   ],
   "source": [
    "print(df.head())  # Looking at the top rows\n",
    "print(df.info())  # info about Dataset\n",
    "print(df.describe())  # A little describe of the Dataset\n",
    "print(df.dtypes) # Datatypes\n",
    "df.isna().sum() # Sum the null values to know the amount"
   ]
  },
  {
   "cell_type": "markdown",
   "metadata": {},
   "source": [
    "Graph the unique values ​​and count them in the entire DataFrame"
   ]
  },
  {
   "cell_type": "code",
   "execution_count": 6,
   "metadata": {},
   "outputs": [
    {
     "data": {
      "image/png": "[encoded data removed]",
      "text/plain": [
       "<Figure size 640x480 with 1 Axes>"
      ]
     },
     "metadata": {},
     "output_type": "display_data"
    }
   ],
   "source": [
    "unique_values = {}\n",
    "for column in df.columns:\n",
    "    unique_values[column] = df[column].nunique()\n",
    "    \n",
    "# Convert the dictionary into a Series for easier visualization\n",
    "unique_series = pd.Series(unique_values)\n",
    "    \n",
    "# Plot the unique values\n",
    "unique_series.plot(kind='bar')\n",
    "plt.title('Unique Values')\n",
    "plt.xlabel('Column')\n",
    "plt.ylabel('Amount of Unique Values')\n",
    "plt.xticks(rotation=45)  # Rotate the x-axis labels for better readability\n",
    "plt.show()"
   ]
  },
  {
   "cell_type": "markdown",
   "metadata": {},
   "source": [
    "#2 Data preparation:\n",
    "First of all, change the hearders to the original names, not numbers."
   ]
  },
  {
   "cell_type": "code",
   "execution_count": 7,
   "metadata": {},
   "outputs": [
    {
     "name": "stdout",
     "output_type": "stream",
     "text": [
      "0  First Name   Last Name                      Email Application Date  \\\n",
      "1  Bernadette   Langworth        leonard91@yahoo.com       2021-02-26   \n",
      "2      Camryn    Reynolds        zelda56@hotmail.com       2021-09-09   \n",
      "3       Larue      Spinka   okey_schultz41@gmail.com       2020-04-14   \n",
      "4        Arch      Spinka     elvera_kulas@yahoo.com       2020-10-01   \n",
      "5       Larue  Altenwerth  minnie.gislason@gmail.com       2020-05-20   \n",
      "\n",
      "0  Country YOE  Seniority                         Technology  \\\n",
      "1   Norway   2     Intern                      Data Engineer   \n",
      "2   Panama  10     Intern                      Data Engineer   \n",
      "3  Belarus   4  Mid-Level                     Client Success   \n",
      "4  Eritrea  25    Trainee                          QA Manual   \n",
      "5  Myanmar  13  Mid-Level  Social Media Community Management   \n",
      "\n",
      "0 Code Challenge Score Technical Interview Score  \n",
      "1                    3                         3  \n",
      "2                    2                        10  \n",
      "3                   10                         9  \n",
      "4                    7                         1  \n",
      "5                    9                         7  \n"
     ]
    }
   ],
   "source": [
    "# Extract the second row as column headers\n",
    "new_headers = df.iloc[0]\n",
    "\n",
    "# Assign the new headers to the DataFrame\n",
    "df.columns = new_headers\n",
    "\n",
    "# Drop the second row\n",
    "df = df.drop(df.index[0])\n",
    "\n",
    "print(df.head())"
   ]
  },
  {
   "cell_type": "code",
   "execution_count": 8,
   "metadata": {},
   "outputs": [],
   "source": [
    "# Normalize column names\n",
    "df.columns = df.columns.str.lower().str.replace(' ', '_')"
   ]
  },
  {
   "cell_type": "code",
   "execution_count": 9,
   "metadata": {},
   "outputs": [],
   "source": [
    "# Reset index and add column id\n",
    "df.reset_index(inplace=True)\n",
    "df.rename(columns={'index': 'id'}, inplace=True)"
   ]
  },
  {
   "cell_type": "markdown",
   "metadata": {},
   "source": [
    "I change the data type of some columns that are numeric and were as object "
   ]
  },
  {
   "cell_type": "code",
   "execution_count": 10,
   "metadata": {},
   "outputs": [
    {
     "name": "stdout",
     "output_type": "stream",
     "text": [
      "0\n",
      "id                                    int64\n",
      "first_name                           object\n",
      "last_name                            object\n",
      "email                                object\n",
      "application_date             datetime64[ns]\n",
      "country                              object\n",
      "yoe                                   int32\n",
      "seniority                            object\n",
      "technology                           object\n",
      "code_challenge_score                  int32\n",
      "technical_interview_score             int32\n",
      "dtype: object\n"
     ]
    }
   ],
   "source": [
    "df['yoe'] = df['yoe'].astype(int)\n",
    "df['code_challenge_score'] = df['code_challenge_score'].astype(int)\n",
    "df['technical_interview_score'] = df['technical_interview_score'].astype(int)\n",
    "df['application_date'] = pd.to_datetime(df['application_date'])\n",
    "print(df.dtypes)"
   ]
  },
  {
   "cell_type": "markdown",
   "metadata": {},
   "source": [
    "With this now I can look for outliners, using the int values."
   ]
  },
  {
   "cell_type": "code",
   "execution_count": 11,
   "metadata": {},
   "outputs": [
    {
     "data": {
      "image/png": "[encoded data removed]",
      "text/plain": [
       "<Figure size 1000x600 with 1 Axes>"
      ]
     },
     "metadata": {},
     "output_type": "display_data"
    }
   ],
   "source": [
    "# Specify the numerical columns\n",
    "numerical_columns = ['yoe', 'code_challenge_score', 'technical_interview_score']\n",
    "\n",
    "# Create boxplots for each numerical column to visualize potential outliers\n",
    "plt.figure(figsize=(10,6))\n",
    "df[numerical_columns].boxplot()\n",
    "plt.title('Boxplot for Outlier Detection')\n",
    "plt.xticks(rotation=45)  # Rotate the x-axis labels for better readability\n",
    "plt.show()"
   ]
  },
  {
   "cell_type": "markdown",
   "metadata": {},
   "source": [
    "I divide the Application Date column into three other new columns: Year, month and day."
   ]
  },
  {
   "cell_type": "code",
   "execution_count": 12,
   "metadata": {},
   "outputs": [
    {
     "name": "stdout",
     "output_type": "stream",
     "text": [
      "0        2021\n",
      "1        2021\n",
      "2        2020\n",
      "3        2020\n",
      "4        2020\n",
      "         ... \n",
      "49995    2022\n",
      "49996    2020\n",
      "49997    2018\n",
      "49998    2020\n",
      "49999    2022\n",
      "Name: year, Length: 50000, dtype: int64 0         2\n",
      "1         9\n",
      "2         4\n",
      "3        10\n",
      "4         5\n",
      "         ..\n",
      "49995     1\n",
      "49996     6\n",
      "49997    12\n",
      "49998     5\n",
      "49999     6\n",
      "Name: month, Length: 50000, dtype: int64 0        26\n",
      "1         9\n",
      "2        14\n",
      "3         1\n",
      "4        20\n",
      "         ..\n",
      "49995     9\n",
      "49996     2\n",
      "49997    15\n",
      "49998    30\n",
      "49999    13\n",
      "Name: day, Length: 50000, dtype: int64\n"
     ]
    }
   ],
   "source": [
    "df['year'] = df['application_date'].dt.year\n",
    "df['month'] = df['application_date'].dt.month\n",
    "df['day'] = df['application_date'].dt.day\n",
    "print(df['year'], df['month'], df['day'])"
   ]
  },
  {
   "cell_type": "markdown",
   "metadata": {},
   "source": [
    "This calculates the lengths of strings in specified columns. It then finds the maximum and minimum lengths for each column and prints them out. I made it to find extreme large names o data that can be incorrect."
   ]
  },
  {
   "cell_type": "code",
   "execution_count": 14,
   "metadata": {},
   "outputs": [
    {
     "name": "stdout",
     "output_type": "stream",
     "text": [
      "Maximum lengths:\n",
      "first_name: 11\n",
      "last_name: 13\n",
      "email: 36\n",
      "country: 51\n",
      "seniority: 9\n",
      "technology: 39\n",
      "\n",
      "Minimum lengths:\n",
      "first_name: 2\n",
      "last_name: 3\n",
      "email: 13\n",
      "country: 4\n",
      "seniority: 4\n",
      "technology: 5\n"
     ]
    }
   ],
   "source": [
    "# Selecten columns\n",
    "character_columns = ['first_name', 'last_name', 'email', 'country', 'seniority', 'technology']\n",
    "\n",
    "# Calculate the length of each string in the specified columns\n",
    "longitudes = {}\n",
    "for column in character_columns:\n",
    "    longitudes[column] = df[column].str.len()\n",
    "\n",
    "# Find the maximum and minimum lengths\n",
    "max_lengths = {column: lengths.max() for column, lengths in longitudes.items()}\n",
    "min_lengths = {column: lengths.min() for column, lengths in longitudes.items()}\n",
    "\n",
    "print(\"Maximum lengths:\")\n",
    "for column, max_length in max_lengths.items():\n",
    "    print(f\"{column}: {max_length}\")\n",
    "\n",
    "print(\"\\nMinimum lengths:\")\n",
    "for column, min_length in min_lengths.items():\n",
    "    print(f\"{column}: {min_length}\")"
   ]
  },
  {
   "cell_type": "code",
   "execution_count": 15,
   "metadata": {},
   "outputs": [
    {
     "data": {
      "text/html": [
       "<div>\n",
       "<style scoped>\n",
       "    .dataframe tbody tr th:only-of-type {\n",
       "        vertical-align: middle;\n",
       "    }\n",
       "\n",
       "    .dataframe tbody tr th {\n",
       "        vertical-align: top;\n",
       "    }\n",
       "\n",
       "    .dataframe thead th {\n",
       "        text-align: right;\n",
       "    }\n",
       "</style>\n",
       "<table border=\"1\" class=\"dataframe\">\n",
       "  <thead>\n",
       "    <tr style=\"text-align: right;\">\n",
       "      <th></th>\n",
       "      <th>id</th>\n",
       "      <th>yoe</th>\n",
       "      <th>code_challenge_score</th>\n",
       "      <th>technical_interview_score</th>\n",
       "      <th>year</th>\n",
       "      <th>month</th>\n",
       "      <th>day</th>\n",
       "    </tr>\n",
       "  </thead>\n",
       "  <tbody>\n",
       "    <tr>\n",
       "      <th>count</th>\n",
       "      <td>50000.000000</td>\n",
       "      <td>50000.000000</td>\n",
       "      <td>50000.000000</td>\n",
       "      <td>50000.000000</td>\n",
       "      <td>50000.000000</td>\n",
       "      <td>50000.000000</td>\n",
       "      <td>50000.000000</td>\n",
       "    </tr>\n",
       "    <tr>\n",
       "      <th>mean</th>\n",
       "      <td>25000.500000</td>\n",
       "      <td>15.286980</td>\n",
       "      <td>4.996400</td>\n",
       "      <td>5.003880</td>\n",
       "      <td>2019.784080</td>\n",
       "      <td>6.206760</td>\n",
       "      <td>15.695560</td>\n",
       "    </tr>\n",
       "    <tr>\n",
       "      <th>std</th>\n",
       "      <td>14433.901067</td>\n",
       "      <td>8.830652</td>\n",
       "      <td>3.166896</td>\n",
       "      <td>3.165082</td>\n",
       "      <td>1.315619</td>\n",
       "      <td>3.421895</td>\n",
       "      <td>8.818779</td>\n",
       "    </tr>\n",
       "    <tr>\n",
       "      <th>min</th>\n",
       "      <td>1.000000</td>\n",
       "      <td>0.000000</td>\n",
       "      <td>0.000000</td>\n",
       "      <td>0.000000</td>\n",
       "      <td>2018.000000</td>\n",
       "      <td>1.000000</td>\n",
       "      <td>1.000000</td>\n",
       "    </tr>\n",
       "    <tr>\n",
       "      <th>25%</th>\n",
       "      <td>12500.750000</td>\n",
       "      <td>8.000000</td>\n",
       "      <td>2.000000</td>\n",
       "      <td>2.000000</td>\n",
       "      <td>2019.000000</td>\n",
       "      <td>3.000000</td>\n",
       "      <td>8.000000</td>\n",
       "    </tr>\n",
       "    <tr>\n",
       "      <th>50%</th>\n",
       "      <td>25000.500000</td>\n",
       "      <td>15.000000</td>\n",
       "      <td>5.000000</td>\n",
       "      <td>5.000000</td>\n",
       "      <td>2020.000000</td>\n",
       "      <td>6.000000</td>\n",
       "      <td>16.000000</td>\n",
       "    </tr>\n",
       "    <tr>\n",
       "      <th>75%</th>\n",
       "      <td>37500.250000</td>\n",
       "      <td>23.000000</td>\n",
       "      <td>8.000000</td>\n",
       "      <td>8.000000</td>\n",
       "      <td>2021.000000</td>\n",
       "      <td>9.000000</td>\n",
       "      <td>23.000000</td>\n",
       "    </tr>\n",
       "    <tr>\n",
       "      <th>max</th>\n",
       "      <td>50000.000000</td>\n",
       "      <td>30.000000</td>\n",
       "      <td>10.000000</td>\n",
       "      <td>10.000000</td>\n",
       "      <td>2022.000000</td>\n",
       "      <td>12.000000</td>\n",
       "      <td>31.000000</td>\n",
       "    </tr>\n",
       "  </tbody>\n",
       "</table>\n",
       "</div>"
      ],
      "text/plain": [
       "0                id           yoe  code_challenge_score  \\\n",
       "count  50000.000000  50000.000000          50000.000000   \n",
       "mean   25000.500000     15.286980              4.996400   \n",
       "std    14433.901067      8.830652              3.166896   \n",
       "min        1.000000      0.000000              0.000000   \n",
       "25%    12500.750000      8.000000              2.000000   \n",
       "50%    25000.500000     15.000000              5.000000   \n",
       "75%    37500.250000     23.000000              8.000000   \n",
       "max    50000.000000     30.000000             10.000000   \n",
       "\n",
       "0      technical_interview_score          year         month           day  \n",
       "count               50000.000000  50000.000000  50000.000000  50000.000000  \n",
       "mean                    5.003880   2019.784080      6.206760     15.695560  \n",
       "std                     3.165082      1.315619      3.421895      8.818779  \n",
       "min                     0.000000   2018.000000      1.000000      1.000000  \n",
       "25%                     2.000000   2019.000000      3.000000      8.000000  \n",
       "50%                     5.000000   2020.000000      6.000000     16.000000  \n",
       "75%                     8.000000   2021.000000      9.000000     23.000000  \n",
       "max                    10.000000   2022.000000     12.000000     31.000000  "
      ]
     },
     "execution_count": 15,
     "metadata": {},
     "output_type": "execute_result"
    }
   ],
   "source": [
    "df.describe()"
   ]
  },
  {
   "cell_type": "markdown",
   "metadata": {},
   "source": [
    "#3 Data visualization. "
   ]
  }
 ],
 "metadata": {
  "kernelspec": {
   "display_name": "base",
   "language": "python",
   "name": "python3"
  },
  "language_info": {
   "codemirror_mode": {
    "name": "ipython",
    "version": 3
   },
   "file_extension": ".py",
   "mimetype": "text/x-python",
   "name": "python",
   "nbconvert_exporter": "python",
   "pygments_lexer": "ipython3",
   "version": "3.10.9"
  }
 },
 "nbformat": 4,
 "nbformat_minor": 2
}
